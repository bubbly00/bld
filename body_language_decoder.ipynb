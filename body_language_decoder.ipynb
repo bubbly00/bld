{
 "metadata": {
  "language_info": {
   "codemirror_mode": {
    "name": "ipython",
    "version": 3
   },
   "file_extension": ".py",
   "mimetype": "text/x-python",
   "name": "python",
   "nbconvert_exporter": "python",
   "pygments_lexer": "ipython3",
   "version": "3.9.0"
  },
  "orig_nbformat": 4,
  "kernelspec": {
   "name": "python3",
   "display_name": "Python 3.9.0  ('.JVS': venv)"
  },
  "interpreter": {
   "hash": "ced60e195f12e36e6fdba7f857f70d1ed57737bc7d0dcdd8cde2d1172ac9e8c0"
  }
 },
 "nbformat": 4,
 "nbformat_minor": 2,
 "cells": [
  {
   "cell_type": "code",
   "execution_count": 1,
   "metadata": {},
   "outputs": [],
   "source": [
    "import mediapipe as mp\n",
    "import cv2"
   ]
  },
  {
   "cell_type": "code",
   "execution_count": 2,
   "metadata": {},
   "outputs": [],
   "source": [
    "mp_drawing  = mp.solutions.drawing_utils\n",
    "mp_holistic = mp.solutions.holistic"
   ]
  },
  {
   "source": [
    "## Make Detection"
   ],
   "cell_type": "markdown",
   "metadata": {}
  },
  {
   "cell_type": "code",
   "execution_count": 19,
   "metadata": {},
   "outputs": [],
   "source": [
    "cap = cv2.VideoCapture(0)\n",
    "\n",
    "# initialize the model\n",
    "with mp_holistic.Holistic(min_detection_confidence=0.5,min_tracking_confidence=0.5) as holistic:\n",
    "\n",
    "    while cap.isOpened():\n",
    "        ret , frame = cap.read()\n",
    "\n",
    "        image = cv2.cvtColor(frame , cv2.COLOR_BGR2RGB)\n",
    "\n",
    "        image.flags.writeable = False\n",
    "\n",
    "        results = holistic.process(image)\n",
    "\n",
    "        # print(results.pose_landmarks)\n",
    "        image.flags.writeable = True\n",
    "\n",
    "        image = cv2.cvtColor(image , cv2.COLOR_RGB2BGR)\n",
    "\n",
    "        # face\n",
    "        mp_drawing.draw_landmarks(image , results.face_landmarks , mp_holistic.FACE_CONNECTIONS,\n",
    "        mp_drawing.DrawingSpec(color=(80,110,10) ,thickness = 1 ,circle_radius=1 ) ,         mp_drawing.DrawingSpec(color=(80,256,121) ,thickness = 1 ,circle_radius=1 ))\n",
    "\n",
    "        # right hand\n",
    "        mp_drawing.draw_landmarks(image , results.right_hand_landmarks , mp_holistic.HAND_CONNECTIONS,\n",
    "        mp_drawing.DrawingSpec(color=(80,22,10) ,thickness = 2 ,circle_radius=4 ) ,          mp_drawing.DrawingSpec(color=(80,44,121) ,thickness = 2 ,circle_radius=2 ) )\n",
    "        \n",
    "        # left hand\n",
    "        mp_drawing.draw_landmarks(image , results.left_hand_landmarks , mp_holistic.HAND_CONNECTIONS,\n",
    "        mp_drawing.DrawingSpec(color=(121,22,76) ,thickness = 2 ,circle_radius=4 ) ,         mp_drawing.DrawingSpec(color=(121,44,230) ,thickness = 2 ,circle_radius=2 ))\n",
    "        \n",
    "        # pose detection\n",
    "        mp_drawing.draw_landmarks(image , results.pose_landmarks , mp_holistic.POSE_CONNECTIONS,\n",
    "        mp_drawing.DrawingSpec(color=(245,117,66) ,thickness = 2 ,circle_radius=4 ) ,        mp_drawing.DrawingSpec(color=(245,66,230) ,thickness = 2 ,circle_radius=2 ))\n",
    "        \n",
    "        cv2.imshow(\"Holistic Model Detections\",image)\n",
    "\n",
    "        if cv2.waitKey(30) & 0xFF == ord('q'):\n",
    "            break\n",
    "\n",
    "cap.release()\n",
    "cv2.destroyAllWindows()"
   ]
  },
  {
   "source": [
    "## Capture the Landmarks"
   ],
   "cell_type": "markdown",
   "metadata": {}
  },
  {
   "cell_type": "code",
   "execution_count": 3,
   "metadata": {},
   "outputs": [],
   "source": [
    "import csv\n",
    "import numpy as np\n",
    "import os"
   ]
  },
  {
   "cell_type": "code",
   "execution_count": 10,
   "metadata": {},
   "outputs": [],
   "source": [
    "num_coords = len(results.face_landmarks.landmark) + len(results.pose_landmarks.landmark)"
   ]
  },
  {
   "cell_type": "code",
   "execution_count": 14,
   "metadata": {},
   "outputs": [],
   "source": [
    "landmarks = ['class']\n",
    "for val in range(1,num_coords+1):\n",
    "    landmarks += ['x{}'.format(val) ,'y{}'.format(val),'z{}'.format(val),'v{}'.format(val) ]"
   ]
  },
  {
   "cell_type": "code",
   "execution_count": 16,
   "metadata": {},
   "outputs": [],
   "source": [
    "with open('coords.csv' , mode='w',newline='') as f:\n",
    "    csv_writer = csv.writer(f , delimiter=',',quotechar='\"',quoting = csv.QUOTE_MINIMAL)\n",
    "    csv_writer.writerow(landmarks)"
   ]
  },
  {
   "cell_type": "code",
   "execution_count": 23,
   "metadata": {},
   "outputs": [],
   "source": [
    "class_name = 'Victouris'"
   ]
  },
  {
   "cell_type": "code",
   "execution_count": 24,
   "metadata": {},
   "outputs": [],
   "source": [
    "cap = cv2.VideoCapture(0)\n",
    "\n",
    "# initialize the model\n",
    "with mp_holistic.Holistic(min_detection_confidence=0.5,min_tracking_confidence=0.5) as holistic:\n",
    "\n",
    "    while cap.isOpened():\n",
    "        ret , frame = cap.read()\n",
    "\n",
    "        image = cv2.cvtColor(frame , cv2.COLOR_BGR2RGB)\n",
    "\n",
    "        image.flags.writeable = False\n",
    "\n",
    "        results = holistic.process(image)\n",
    "\n",
    "        # print(results.pose_landmarks)\n",
    "        image.flags.writeable = True\n",
    "\n",
    "        image = cv2.cvtColor(image , cv2.COLOR_RGB2BGR)\n",
    "\n",
    "        # face\n",
    "        mp_drawing.draw_landmarks(image , results.face_landmarks , mp_holistic.FACE_CONNECTIONS,\n",
    "        mp_drawing.DrawingSpec(color=(80,110,10) ,thickness = 1 ,circle_radius=1 ) ,         mp_drawing.DrawingSpec(color=(80,256,121) ,thickness = 1 ,circle_radius=1 ))\n",
    "\n",
    "        # right hand\n",
    "        mp_drawing.draw_landmarks(image , results.right_hand_landmarks , mp_holistic.HAND_CONNECTIONS,\n",
    "        mp_drawing.DrawingSpec(color=(80,22,10) ,thickness = 2 ,circle_radius=4 ) ,          mp_drawing.DrawingSpec(color=(80,44,121) ,thickness = 2 ,circle_radius=2 ) )\n",
    "        \n",
    "        # left hand\n",
    "        mp_drawing.draw_landmarks(image , results.left_hand_landmarks , mp_holistic.HAND_CONNECTIONS,\n",
    "        mp_drawing.DrawingSpec(color=(121,22,76) ,thickness = 2 ,circle_radius=4 ) ,         mp_drawing.DrawingSpec(color=(121,44,230) ,thickness = 2 ,circle_radius=2 ))\n",
    "        \n",
    "        # pose detection\n",
    "        mp_drawing.draw_landmarks(image , results.pose_landmarks , mp_holistic.POSE_CONNECTIONS,\n",
    "        mp_drawing.DrawingSpec(color=(245,117,66) ,thickness = 2 ,circle_radius=4 ) ,        mp_drawing.DrawingSpec(color=(245,66,230) ,thickness = 2 ,circle_radius=2 ))\n",
    "\n",
    "        # export coordinates\n",
    "        try:\n",
    "            pose = results.pose_landmarks.landmark\n",
    "            pose_row = list(np.array([[landmark.x , landmark.y , landmark.z , landmark.visibility] for landmark in pose]).flatten())\n",
    "\n",
    "            face = results.face_landmarks.landmark\n",
    "            face_row = list(np.array([[landmark.x , landmark.y , landmark.z , landmark.visibility] for landmark in face]).flatten())\n",
    "\n",
    "            row = pose_row + face_row\n",
    "            row.insert(0 , class_name)\n",
    "\n",
    "            with open('coords.csv' , mode='a',newline='') as f:\n",
    "                csv_writer = csv.writer(f , delimiter=',',quotechar='\"',quoting = csv.QUOTE_MINIMAL)\n",
    "                csv_writer.writerow(row)\n",
    "\n",
    "        except:\n",
    "            pass\n",
    "        \n",
    "        cv2.imshow(\"Holistic Model Detections\",image)\n",
    "\n",
    "        if cv2.waitKey(30) & 0xFF == ord('q'):\n",
    "            break\n",
    "\n",
    "cap.release()\n",
    "cv2.destroyAllWindows()"
   ]
  },
  {
   "source": [
    "## Create Model"
   ],
   "cell_type": "markdown",
   "metadata": {}
  },
  {
   "cell_type": "code",
   "execution_count": 26,
   "metadata": {},
   "outputs": [],
   "source": [
    "import pandas as pd\n",
    "from sklearn.model_selection import train_test_split"
   ]
  },
  {
   "cell_type": "code",
   "execution_count": 27,
   "metadata": {},
   "outputs": [],
   "source": [
    "df = pd.read_csv('coords.csv')"
   ]
  },
  {
   "cell_type": "code",
   "execution_count": 28,
   "metadata": {},
   "outputs": [
    {
     "output_type": "execute_result",
     "data": {
      "text/plain": [
       "   class        x1        y1        z1        v1        x2        y2  \\\n",
       "0  Happy  0.500657  0.613720 -1.115281  0.999839  0.532508  0.543845   \n",
       "1  Happy  0.500474  0.614542 -1.168532  0.999805  0.532203  0.544535   \n",
       "2  Happy  0.500569  0.615019 -1.205891  0.999765  0.532187  0.544943   \n",
       "3  Happy  0.500593  0.615359 -1.234285  0.999719  0.532097  0.545353   \n",
       "4  Happy  0.500079  0.616703 -1.253217  0.999695  0.531705  0.546454   \n",
       "\n",
       "         z2        v2        x3  ...      z499  v499      x500      y500  \\\n",
       "0 -1.033326  0.999699  0.555143  ... -0.001737   0.0  0.566240  0.532601   \n",
       "1 -1.082736  0.999641  0.554549  ... -0.001005   0.0  0.565989  0.533436   \n",
       "2 -1.118739  0.999578  0.554404  ... -0.002798   0.0  0.565154  0.528870   \n",
       "3 -1.146037  0.999506  0.554169  ... -0.000731   0.0  0.563805  0.531685   \n",
       "4 -1.167382  0.999467  0.553767  ... -0.001890   0.0  0.563329  0.532082   \n",
       "\n",
       "       z500  v500      x501      y501      z501  v501  \n",
       "0  0.025169   0.0  0.572219  0.527062  0.026222   0.0  \n",
       "1  0.025574   0.0  0.571853  0.527762  0.026638   0.0  \n",
       "2  0.023352   0.0  0.570988  0.523350  0.024342   0.0  \n",
       "3  0.026234   0.0  0.569705  0.525997  0.027333   0.0  \n",
       "4  0.023685   0.0  0.569285  0.526535  0.024638   0.0  \n",
       "\n",
       "[5 rows x 2005 columns]"
      ],
      "text/html": "<div>\n<style scoped>\n    .dataframe tbody tr th:only-of-type {\n        vertical-align: middle;\n    }\n\n    .dataframe tbody tr th {\n        vertical-align: top;\n    }\n\n    .dataframe thead th {\n        text-align: right;\n    }\n</style>\n<table border=\"1\" class=\"dataframe\">\n  <thead>\n    <tr style=\"text-align: right;\">\n      <th></th>\n      <th>class</th>\n      <th>x1</th>\n      <th>y1</th>\n      <th>z1</th>\n      <th>v1</th>\n      <th>x2</th>\n      <th>y2</th>\n      <th>z2</th>\n      <th>v2</th>\n      <th>x3</th>\n      <th>...</th>\n      <th>z499</th>\n      <th>v499</th>\n      <th>x500</th>\n      <th>y500</th>\n      <th>z500</th>\n      <th>v500</th>\n      <th>x501</th>\n      <th>y501</th>\n      <th>z501</th>\n      <th>v501</th>\n    </tr>\n  </thead>\n  <tbody>\n    <tr>\n      <th>0</th>\n      <td>Happy</td>\n      <td>0.500657</td>\n      <td>0.613720</td>\n      <td>-1.115281</td>\n      <td>0.999839</td>\n      <td>0.532508</td>\n      <td>0.543845</td>\n      <td>-1.033326</td>\n      <td>0.999699</td>\n      <td>0.555143</td>\n      <td>...</td>\n      <td>-0.001737</td>\n      <td>0.0</td>\n      <td>0.566240</td>\n      <td>0.532601</td>\n      <td>0.025169</td>\n      <td>0.0</td>\n      <td>0.572219</td>\n      <td>0.527062</td>\n      <td>0.026222</td>\n      <td>0.0</td>\n    </tr>\n    <tr>\n      <th>1</th>\n      <td>Happy</td>\n      <td>0.500474</td>\n      <td>0.614542</td>\n      <td>-1.168532</td>\n      <td>0.999805</td>\n      <td>0.532203</td>\n      <td>0.544535</td>\n      <td>-1.082736</td>\n      <td>0.999641</td>\n      <td>0.554549</td>\n      <td>...</td>\n      <td>-0.001005</td>\n      <td>0.0</td>\n      <td>0.565989</td>\n      <td>0.533436</td>\n      <td>0.025574</td>\n      <td>0.0</td>\n      <td>0.571853</td>\n      <td>0.527762</td>\n      <td>0.026638</td>\n      <td>0.0</td>\n    </tr>\n    <tr>\n      <th>2</th>\n      <td>Happy</td>\n      <td>0.500569</td>\n      <td>0.615019</td>\n      <td>-1.205891</td>\n      <td>0.999765</td>\n      <td>0.532187</td>\n      <td>0.544943</td>\n      <td>-1.118739</td>\n      <td>0.999578</td>\n      <td>0.554404</td>\n      <td>...</td>\n      <td>-0.002798</td>\n      <td>0.0</td>\n      <td>0.565154</td>\n      <td>0.528870</td>\n      <td>0.023352</td>\n      <td>0.0</td>\n      <td>0.570988</td>\n      <td>0.523350</td>\n      <td>0.024342</td>\n      <td>0.0</td>\n    </tr>\n    <tr>\n      <th>3</th>\n      <td>Happy</td>\n      <td>0.500593</td>\n      <td>0.615359</td>\n      <td>-1.234285</td>\n      <td>0.999719</td>\n      <td>0.532097</td>\n      <td>0.545353</td>\n      <td>-1.146037</td>\n      <td>0.999506</td>\n      <td>0.554169</td>\n      <td>...</td>\n      <td>-0.000731</td>\n      <td>0.0</td>\n      <td>0.563805</td>\n      <td>0.531685</td>\n      <td>0.026234</td>\n      <td>0.0</td>\n      <td>0.569705</td>\n      <td>0.525997</td>\n      <td>0.027333</td>\n      <td>0.0</td>\n    </tr>\n    <tr>\n      <th>4</th>\n      <td>Happy</td>\n      <td>0.500079</td>\n      <td>0.616703</td>\n      <td>-1.253217</td>\n      <td>0.999695</td>\n      <td>0.531705</td>\n      <td>0.546454</td>\n      <td>-1.167382</td>\n      <td>0.999467</td>\n      <td>0.553767</td>\n      <td>...</td>\n      <td>-0.001890</td>\n      <td>0.0</td>\n      <td>0.563329</td>\n      <td>0.532082</td>\n      <td>0.023685</td>\n      <td>0.0</td>\n      <td>0.569285</td>\n      <td>0.526535</td>\n      <td>0.024638</td>\n      <td>0.0</td>\n    </tr>\n  </tbody>\n</table>\n<p>5 rows × 2005 columns</p>\n</div>"
     },
     "metadata": {},
     "execution_count": 28
    }
   ],
   "source": [
    "df.head()"
   ]
  },
  {
   "cell_type": "code",
   "execution_count": 29,
   "metadata": {},
   "outputs": [
    {
     "output_type": "execute_result",
     "data": {
      "text/plain": [
       "         class        x1        y1        z1        v1        x2        y2  \\\n",
       "341  Victouris  0.457547  0.646542 -1.044208  0.999936  0.481424  0.589085   \n",
       "342  Victouris  0.466308  0.636127 -1.051559  0.999935  0.488479  0.581103   \n",
       "343  Victouris  0.475955  0.634087 -1.085917  0.999935  0.496976  0.578406   \n",
       "344  Victouris  0.486417  0.628515 -1.067564  0.999939  0.509187  0.571131   \n",
       "345  Victouris  0.494866  0.624417 -1.084342  0.999941  0.519067  0.566119   \n",
       "\n",
       "           z2        v2        x3  ...      z499  v499      x500      y500  \\\n",
       "341 -0.951438  0.999869  0.496858  ... -0.011553   0.0  0.517103  0.563691   \n",
       "342 -0.953093  0.999868  0.505310  ... -0.010608   0.0  0.529222  0.554652   \n",
       "343 -0.986342  0.999868  0.515373  ... -0.010714   0.0  0.534646  0.552598   \n",
       "344 -0.972238  0.999876  0.527607  ... -0.010303   0.0  0.547147  0.543724   \n",
       "345 -0.994680  0.999882  0.537186  ... -0.008745   0.0  0.558168  0.533421   \n",
       "\n",
       "         z500  v500      x501      y501      z501  v501  \n",
       "341  0.006568   0.0  0.521665  0.559760  0.006955   0.0  \n",
       "342  0.009933   0.0  0.533759  0.550489  0.010437   0.0  \n",
       "343  0.010855   0.0  0.538995  0.548620  0.011413   0.0  \n",
       "344  0.012147   0.0  0.551598  0.539747  0.012823   0.0  \n",
       "345  0.016059   0.0  0.562657  0.529334  0.016943   0.0  \n",
       "\n",
       "[5 rows x 2005 columns]"
      ],
      "text/html": "<div>\n<style scoped>\n    .dataframe tbody tr th:only-of-type {\n        vertical-align: middle;\n    }\n\n    .dataframe tbody tr th {\n        vertical-align: top;\n    }\n\n    .dataframe thead th {\n        text-align: right;\n    }\n</style>\n<table border=\"1\" class=\"dataframe\">\n  <thead>\n    <tr style=\"text-align: right;\">\n      <th></th>\n      <th>class</th>\n      <th>x1</th>\n      <th>y1</th>\n      <th>z1</th>\n      <th>v1</th>\n      <th>x2</th>\n      <th>y2</th>\n      <th>z2</th>\n      <th>v2</th>\n      <th>x3</th>\n      <th>...</th>\n      <th>z499</th>\n      <th>v499</th>\n      <th>x500</th>\n      <th>y500</th>\n      <th>z500</th>\n      <th>v500</th>\n      <th>x501</th>\n      <th>y501</th>\n      <th>z501</th>\n      <th>v501</th>\n    </tr>\n  </thead>\n  <tbody>\n    <tr>\n      <th>341</th>\n      <td>Victouris</td>\n      <td>0.457547</td>\n      <td>0.646542</td>\n      <td>-1.044208</td>\n      <td>0.999936</td>\n      <td>0.481424</td>\n      <td>0.589085</td>\n      <td>-0.951438</td>\n      <td>0.999869</td>\n      <td>0.496858</td>\n      <td>...</td>\n      <td>-0.011553</td>\n      <td>0.0</td>\n      <td>0.517103</td>\n      <td>0.563691</td>\n      <td>0.006568</td>\n      <td>0.0</td>\n      <td>0.521665</td>\n      <td>0.559760</td>\n      <td>0.006955</td>\n      <td>0.0</td>\n    </tr>\n    <tr>\n      <th>342</th>\n      <td>Victouris</td>\n      <td>0.466308</td>\n      <td>0.636127</td>\n      <td>-1.051559</td>\n      <td>0.999935</td>\n      <td>0.488479</td>\n      <td>0.581103</td>\n      <td>-0.953093</td>\n      <td>0.999868</td>\n      <td>0.505310</td>\n      <td>...</td>\n      <td>-0.010608</td>\n      <td>0.0</td>\n      <td>0.529222</td>\n      <td>0.554652</td>\n      <td>0.009933</td>\n      <td>0.0</td>\n      <td>0.533759</td>\n      <td>0.550489</td>\n      <td>0.010437</td>\n      <td>0.0</td>\n    </tr>\n    <tr>\n      <th>343</th>\n      <td>Victouris</td>\n      <td>0.475955</td>\n      <td>0.634087</td>\n      <td>-1.085917</td>\n      <td>0.999935</td>\n      <td>0.496976</td>\n      <td>0.578406</td>\n      <td>-0.986342</td>\n      <td>0.999868</td>\n      <td>0.515373</td>\n      <td>...</td>\n      <td>-0.010714</td>\n      <td>0.0</td>\n      <td>0.534646</td>\n      <td>0.552598</td>\n      <td>0.010855</td>\n      <td>0.0</td>\n      <td>0.538995</td>\n      <td>0.548620</td>\n      <td>0.011413</td>\n      <td>0.0</td>\n    </tr>\n    <tr>\n      <th>344</th>\n      <td>Victouris</td>\n      <td>0.486417</td>\n      <td>0.628515</td>\n      <td>-1.067564</td>\n      <td>0.999939</td>\n      <td>0.509187</td>\n      <td>0.571131</td>\n      <td>-0.972238</td>\n      <td>0.999876</td>\n      <td>0.527607</td>\n      <td>...</td>\n      <td>-0.010303</td>\n      <td>0.0</td>\n      <td>0.547147</td>\n      <td>0.543724</td>\n      <td>0.012147</td>\n      <td>0.0</td>\n      <td>0.551598</td>\n      <td>0.539747</td>\n      <td>0.012823</td>\n      <td>0.0</td>\n    </tr>\n    <tr>\n      <th>345</th>\n      <td>Victouris</td>\n      <td>0.494866</td>\n      <td>0.624417</td>\n      <td>-1.084342</td>\n      <td>0.999941</td>\n      <td>0.519067</td>\n      <td>0.566119</td>\n      <td>-0.994680</td>\n      <td>0.999882</td>\n      <td>0.537186</td>\n      <td>...</td>\n      <td>-0.008745</td>\n      <td>0.0</td>\n      <td>0.558168</td>\n      <td>0.533421</td>\n      <td>0.016059</td>\n      <td>0.0</td>\n      <td>0.562657</td>\n      <td>0.529334</td>\n      <td>0.016943</td>\n      <td>0.0</td>\n    </tr>\n  </tbody>\n</table>\n<p>5 rows × 2005 columns</p>\n</div>"
     },
     "metadata": {},
     "execution_count": 29
    }
   ],
   "source": [
    "df.tail()"
   ]
  },
  {
   "cell_type": "code",
   "execution_count": 30,
   "metadata": {},
   "outputs": [],
   "source": [
    "x = df.iloc[: , 1:]\n",
    "y = df.iloc[: , 0]"
   ]
  },
  {
   "cell_type": "code",
   "execution_count": 33,
   "metadata": {},
   "outputs": [],
   "source": [
    "X_train , X_test , y_train , y_test = train_test_split(x , y , test_size = 0.2 , random_state=0)"
   ]
  },
  {
   "cell_type": "code",
   "execution_count": 34,
   "metadata": {},
   "outputs": [
    {
     "output_type": "execute_result",
     "data": {
      "text/plain": [
       "(276, 70)"
      ]
     },
     "metadata": {},
     "execution_count": 34
    }
   ],
   "source": [
    "len(X_train) , len(X_test)"
   ]
  },
  {
   "source": [
    "## Model Preparation"
   ],
   "cell_type": "markdown",
   "metadata": {}
  },
  {
   "cell_type": "code",
   "execution_count": 35,
   "metadata": {},
   "outputs": [],
   "source": [
    "from sklearn.preprocessing import StandardScaler\n",
    "from sklearn.pipeline import make_pipeline\n",
    "from sklearn.linear_model import LogisticRegression , RidgeClassifier\n",
    "from sklearn.ensemble import RandomForestClassifier , GradientBoostingClassifier"
   ]
  },
  {
   "cell_type": "code",
   "execution_count": 37,
   "metadata": {},
   "outputs": [],
   "source": [
    "pipelines = {\n",
    "    'lr':make_pipeline(StandardScaler() , LogisticRegression()),\n",
    "    'rc':make_pipeline(StandardScaler() , RidgeClassifier()),\n",
    "    'rf':make_pipeline(StandardScaler() , RandomForestClassifier()),\n",
    "    'gb':make_pipeline(StandardScaler() , GradientBoostingClassifier())\n",
    "}"
   ]
  },
  {
   "cell_type": "code",
   "execution_count": 43,
   "metadata": {},
   "outputs": [
    {
     "output_type": "execute_result",
     "data": {
      "text/plain": [
       "Pipeline(steps=[('standardscaler', StandardScaler()),\n",
       "                ('logisticregression', LogisticRegression())])"
      ]
     },
     "metadata": {},
     "execution_count": 43
    }
   ],
   "source": [
    "list(pipelines.values())[0]"
   ]
  },
  {
   "cell_type": "code",
   "execution_count": 45,
   "metadata": {},
   "outputs": [],
   "source": [
    "fit_models = {}\n",
    "for algo , pipeline in pipelines.items():\n",
    "    model = pipeline.fit(X_train , y_train)\n",
    "    fit_models[algo] = model"
   ]
  },
  {
   "source": [
    "## Evaluate Model"
   ],
   "cell_type": "markdown",
   "metadata": {}
  },
  {
   "cell_type": "code",
   "execution_count": 46,
   "metadata": {},
   "outputs": [],
   "source": [
    "from sklearn.metrics import accuracy_score\n",
    "import pickle"
   ]
  },
  {
   "cell_type": "code",
   "execution_count": 47,
   "metadata": {},
   "outputs": [
    {
     "output_type": "stream",
     "name": "stdout",
     "text": [
      "lr 1.0\nrc 1.0\nrf 1.0\ngb 1.0\n"
     ]
    }
   ],
   "source": [
    "for algo , model in fit_models.items():\n",
    "    pred = model.predict(X_test)\n",
    "    print(algo , accuracy_score(y_test , pred))"
   ]
  },
  {
   "cell_type": "code",
   "execution_count": 48,
   "metadata": {},
   "outputs": [],
   "source": [
    "# save the model\n",
    "with open('body_language.pkl' , 'wb') as f:\n",
    "    pickle.dump(fit_models['rf'], f)\n"
   ]
  },
  {
   "source": [
    "## Make Predictions ( Real Time )"
   ],
   "cell_type": "markdown",
   "metadata": {}
  },
  {
   "cell_type": "code",
   "execution_count": 49,
   "metadata": {},
   "outputs": [],
   "source": [
    "with open('body_language.pkl','rb') as f:\n",
    "    model = pickle.load(f)"
   ]
  },
  {
   "cell_type": "code",
   "execution_count": 50,
   "metadata": {},
   "outputs": [],
   "source": [
    "cap = cv2.VideoCapture(0)\n",
    "\n",
    "# initialize the model\n",
    "with mp_holistic.Holistic(min_detection_confidence=0.5,min_tracking_confidence=0.5) as holistic:\n",
    "\n",
    "    while cap.isOpened():\n",
    "        ret , frame = cap.read()\n",
    "\n",
    "        image = cv2.cvtColor(frame , cv2.COLOR_BGR2RGB)\n",
    "\n",
    "        image.flags.writeable = False\n",
    "\n",
    "        results = holistic.process(image)\n",
    "\n",
    "        # print(results.pose_landmarks)\n",
    "        image.flags.writeable = True\n",
    "\n",
    "        image = cv2.cvtColor(image , cv2.COLOR_RGB2BGR)\n",
    "\n",
    "        # face\n",
    "        mp_drawing.draw_landmarks(image , results.face_landmarks , mp_holistic.FACE_CONNECTIONS,\n",
    "        mp_drawing.DrawingSpec(color=(80,110,10) ,thickness = 1 ,circle_radius=1 ) ,         mp_drawing.DrawingSpec(color=(80,256,121) ,thickness = 1 ,circle_radius=1 ))\n",
    "\n",
    "        # right hand\n",
    "        mp_drawing.draw_landmarks(image , results.right_hand_landmarks , mp_holistic.HAND_CONNECTIONS,\n",
    "        mp_drawing.DrawingSpec(color=(80,22,10) ,thickness = 2 ,circle_radius=4 ) ,          mp_drawing.DrawingSpec(color=(80,44,121) ,thickness = 2 ,circle_radius=2 ) )\n",
    "        \n",
    "        # left hand\n",
    "        mp_drawing.draw_landmarks(image , results.left_hand_landmarks , mp_holistic.HAND_CONNECTIONS,\n",
    "        mp_drawing.DrawingSpec(color=(121,22,76) ,thickness = 2 ,circle_radius=4 ) ,         mp_drawing.DrawingSpec(color=(121,44,230) ,thickness = 2 ,circle_radius=2 ))\n",
    "        \n",
    "        # pose detection\n",
    "        mp_drawing.draw_landmarks(image , results.pose_landmarks , mp_holistic.POSE_CONNECTIONS,\n",
    "        mp_drawing.DrawingSpec(color=(245,117,66) ,thickness = 2 ,circle_radius=4 ) ,        mp_drawing.DrawingSpec(color=(245,66,230) ,thickness = 2 ,circle_radius=2 ))\n",
    "\n",
    "        # export coordinates\n",
    "        try:\n",
    "            pose = results.pose_landmarks.landmark\n",
    "            pose_row = list(np.array([[landmark.x , landmark.y , landmark.z , landmark.visibility] for landmark in pose]).flatten())\n",
    "\n",
    "            face = results.face_landmarks.landmark\n",
    "            face_row = list(np.array([[landmark.x , landmark.y , landmark.z , landmark.visibility] for landmark in face]).flatten())\n",
    "\n",
    "            row = pose_row + face_row\n",
    "            X = pd.DataFrame([row])\n",
    "            body_language_class = model.predict(X)[0]\n",
    "            body_language_prob = model.predict_proba(X)[0]\n",
    "            # print(body_language_class , body_language_prob)\n",
    "\n",
    "            # grab ear coords\n",
    "            coords = tuple(\n",
    "                np.multiply(\n",
    "                    np.array(\n",
    "                        (results.pose_landmarks.landmark[mp_holistic.PoseLandmark.LEFT_EAR].x ,                                       results.pose_landmarks.landmark[mp_holistic.PoseLandmark.LEFT_EAR].y)) , \n",
    "                        [640,480]).astype(int)\n",
    "                        )\n",
    "\n",
    "            cv2.rectangle(image,\n",
    "            (coords[0],coords[1]+5) , \n",
    "            (coords[0]+len(body_language_class)*20,coords[1]-30), (245 , 117 , 16),-1)\n",
    "\n",
    "            cv2.putText(image , body_language_class , coords ,\n",
    "             cv2.FONT_HERSHEY_SIMPLEX , 1 , (255,255,255),2 , cv2.LINE_AA)\n",
    "\n",
    "        except:\n",
    "            pass\n",
    "        \n",
    "        cv2.imshow(\"Holistic Model Detections\",image)\n",
    "\n",
    "        if cv2.waitKey(30) & 0xFF == ord('q'):\n",
    "            break\n",
    "\n",
    "cap.release()\n",
    "cv2.destroyAllWindows()"
   ]
  },
  {
   "cell_type": "code",
   "execution_count": null,
   "metadata": {},
   "outputs": [],
   "source": []
  }
 ]
}